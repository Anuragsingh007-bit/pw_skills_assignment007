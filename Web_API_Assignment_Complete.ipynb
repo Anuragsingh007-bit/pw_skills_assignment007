{
 "cells": [
  {
   "cell_type": "markdown",
   "id": "f9aaadd5",
   "metadata": {},
   "source": [
    "### 1. What is a Web API?\n",
    "A Web API (Application Programming Interface) is a set of rules and endpoints that allows two software systems to communicate over the internet. It exposes data or functionality of one application for use by another."
   ]
  },
  {
   "cell_type": "markdown",
   "id": "39a77a84",
   "metadata": {},
   "source": [
    "### 2. How does a Web API differ from a web service?\n",
    "Web service is a general concept that uses XML and SOAP, while Web API usually uses REST or HTTP protocols and supports multiple formats like JSON, making it more lightweight and developer-friendly."
   ]
  },
  {
   "cell_type": "markdown",
   "id": "f0fe9ef7",
   "metadata": {},
   "source": [
    "### 3. What are the benefits of using Web APIs in software development?\n",
    "- Faster development and easy integration\n",
    "- Reusability of business logic\n",
    "- Cross-platform support\n",
    "- Scalability and flexibility\n",
    "- Integration with third-party services"
   ]
  },
  {
   "cell_type": "markdown",
   "id": "3a05e236",
   "metadata": {},
   "source": [
    "### 4. Explain the difference between SOAP and RESTful APIs.\n",
    "- SOAP uses XML, strict protocol, and is heavyweight.\n",
    "- REST is lightweight, supports multiple formats (JSON, XML), uses HTTP methods (GET, POST, etc.), and is faster and simpler."
   ]
  },
  {
   "cell_type": "markdown",
   "id": "f8f2b4d9",
   "metadata": {},
   "source": [
    "### 5. What is JSON and how is it commonly used in Web APIs?\n",
    "JSON (JavaScript Object Notation) is a lightweight format for data exchange. It is human-readable and widely used to send/receive data between client and server in APIs."
   ]
  },
  {
   "cell_type": "markdown",
   "id": "2e9632ad",
   "metadata": {},
   "source": [
    "### 6. Can you name some popular Web API protocols other than REST?\n",
    "SOAP, GraphQL, gRPC, XML-RPC, and OData are popular alternatives to REST."
   ]
  },
  {
   "cell_type": "markdown",
   "id": "611b8920",
   "metadata": {},
   "source": [
    "### 7. What role do HTTP methods (GET, POST, PUT, DELETE, etc.) play in Web API development?\n",
    "- GET → Retrieve data\n",
    "- POST → Create new data\n",
    "- PUT → Update existing data\n",
    "- PATCH → Partial update\n",
    "- DELETE → Remove data"
   ]
  },
  {
   "cell_type": "markdown",
   "id": "88709376",
   "metadata": {},
   "source": [
    "### 8. What is the purpose of authentication and authorization in Web APIs?\n",
    "Authentication verifies identity (who you are). Authorization verifies permissions (what you can access). Both together secure APIs."
   ]
  },
  {
   "cell_type": "markdown",
   "id": "54ec7754",
   "metadata": {},
   "source": [
    "### 9. How can you handle versioning in Web API development?\n",
    "Use versioning in URL (e.g., /v1/), query parameters, or custom headers to avoid breaking old clients when API changes."
   ]
  },
  {
   "cell_type": "markdown",
   "id": "537377c7",
   "metadata": {},
   "source": [
    "### 10. What are the main components of an HTTP request and response in the context of Web APIs?\n",
    "**Request:** Method, URL, Headers, Body\n",
    "**Response:** Status code, Headers, Body (JSON/XML data)"
   ]
  },
  {
   "cell_type": "markdown",
   "id": "495ede34",
   "metadata": {},
   "source": [
    "### 11. Describe the concept of rate limiting in the context of Web APIs.\n",
    "Rate limiting restricts the number of API requests a client can make in a specific time to prevent abuse and ensure fair usage."
   ]
  },
  {
   "cell_type": "markdown",
   "id": "818c4ac1",
   "metadata": {},
   "source": [
    "### 12. How can you handle errors and exceptions in Web API responses?\n",
    "By returning proper HTTP status codes (400, 401, 404, 500) along with error messages in JSON format so clients can handle them gracefully."
   ]
  },
  {
   "cell_type": "markdown",
   "id": "4739c337",
   "metadata": {},
   "source": [
    "### 13. Explain the concept of statelessness in RESTful Web APIs.\n",
    "Each request must contain all information required to process it. Server does not store client session data between requests."
   ]
  },
  {
   "cell_type": "markdown",
   "id": "1236ad9d",
   "metadata": {},
   "source": [
    "### 14. What are the best practices for designing and documenting Web APIs?\n",
    "- Use consistent naming conventions\n",
    "- Proper HTTP methods and status codes\n",
    "- Provide API documentation (Swagger, Postman)\n",
    "- Secure with authentication\n",
    "- Support versioning"
   ]
  },
  {
   "cell_type": "markdown",
   "id": "844145e5",
   "metadata": {},
   "source": [
    "### 15. What role do API keys and tokens play in securing Web APIs?\n",
    "API keys identify the client, tokens (like JWT) authenticate sessions. They help prevent unauthorized access."
   ]
  },
  {
   "cell_type": "markdown",
   "id": "5231ad84",
   "metadata": {},
   "source": [
    "### 16. What is REST, and what are its key principles?\n",
    "REST (Representational State Transfer) is an architectural style with principles:\n",
    "- Stateless communication\n",
    "- Resource-based URLs\n",
    "- Use of standard HTTP methods\n",
    "- Representations like JSON/XML"
   ]
  },
  {
   "cell_type": "markdown",
   "id": "da42dac3",
   "metadata": {},
   "source": [
    "### 17. Explain the difference between RESTful APIs and traditional web services.\n",
    "Traditional web services often use SOAP and XML, while RESTful APIs use HTTP verbs and are lightweight, easier to scale, and use JSON mostly."
   ]
  },
  {
   "cell_type": "markdown",
   "id": "50ef119a",
   "metadata": {},
   "source": [
    "### 18. What are the main HTTP methods used in RESTful architecture, and what are their purposes?\n",
    "GET, POST, PUT, PATCH, DELETE — used for CRUD operations (Create, Read, Update, Delete)."
   ]
  },
  {
   "cell_type": "markdown",
   "id": "992dec73",
   "metadata": {},
   "source": [
    "### 19. Describe the concept of statelessness in RESTful APIs.\n",
    "No session is stored on server. Each request is independent and contains complete info for execution."
   ]
  },
  {
   "cell_type": "markdown",
   "id": "8d2ccd72",
   "metadata": {},
   "source": [
    "### 20. What is the significance of URIs (Uniform Resource Identifiers) in RESTful API design?\n",
    "URIs uniquely identify resources. They should be meaningful, hierarchical, and consistent (e.g., /users/1/orders/5)."
   ]
  },
  {
   "cell_type": "markdown",
   "id": "6c47f798",
   "metadata": {},
   "source": [
    "### 21. Explain the role of hypermedia in RESTful APIs. How does it relate to HATEOAS?\n",
    "Hypermedia provides links in responses to guide clients on what actions are possible next. HATEOAS (Hypermedia as the Engine of Application State) is a REST constraint that uses this concept."
   ]
  },
  {
   "cell_type": "markdown",
   "id": "7351e1ae",
   "metadata": {},
   "source": [
    "### 22. What are the benefits of using RESTful APIs over other architectural styles?\n",
    "Scalability, simplicity, statelessness, cacheability, and flexibility in data format make RESTful APIs popular."
   ]
  },
  {
   "cell_type": "markdown",
   "id": "1059375e",
   "metadata": {},
   "source": [
    "### 23. Discuss the concept of resource representations in RESTful APIs.\n",
    "A resource can be represented in different formats like JSON, XML, or HTML. Client chooses the format using 'Accept' header."
   ]
  },
  {
   "cell_type": "markdown",
   "id": "d4ef7c8b",
   "metadata": {},
   "source": [
    "### 24. How does REST handle communication between clients and servers?\n",
    "REST uses HTTP protocol where client sends request (with method, headers, body) and server responds with data and status codes."
   ]
  },
  {
   "cell_type": "markdown",
   "id": "a3e74df2",
   "metadata": {},
   "source": [
    "### 25. What are the common data formats used in RESTful API communication?\n",
    "JSON (most common), XML, YAML, and sometimes plain text or CSV."
   ]
  },
  {
   "cell_type": "markdown",
   "id": "e56ee2f7",
   "metadata": {},
   "source": [
    "### 26. Explain the importance of status codes in RESTful API responses.\n",
    "Status codes (200, 201, 400, 404, 500) tell client if request was successful, failed, or redirected."
   ]
  },
  {
   "cell_type": "markdown",
   "id": "037ceac0",
   "metadata": {},
   "source": [
    "### 27. Describe the process of versioning in RESTful API development.\n",
    "Versioning is done by adding version in URL (/api/v1/), query parameters (?version=2), or using custom headers to avoid breaking old clients."
   ]
  },
  {
   "cell_type": "markdown",
   "id": "1d04f3c0",
   "metadata": {},
   "source": [
    "### 28. How can you ensure security in RESTful API development? What are common authentication methods?\n",
    "- Use HTTPS for encryption\n",
    "- Use API keys, OAuth2, JWT for authentication\n",
    "- Validate inputs\n",
    "- Implement rate limiting\n",
    "- Use CORS policies"
   ]
  },
  {
   "cell_type": "markdown",
   "id": "65b90e2f",
   "metadata": {},
   "source": [
    "### 29. What are some best practices for documenting RESTful APIs?\n",
    "Use tools like Swagger/OpenAPI, keep examples, explain endpoints, parameters, responses, and error codes clearly."
   ]
  },
  {
   "cell_type": "markdown",
   "id": "c6dcae0e",
   "metadata": {},
   "source": [
    "### 30. What considerations should be made for error handling in RESTful APIs?\n",
    "Always return meaningful status codes, error messages, and avoid exposing sensitive information."
   ]
  },
  {
   "cell_type": "markdown",
   "id": "4a759d93",
   "metadata": {},
   "source": [
    "### 31. What is SOAP, and how does it differ from REST?\n",
    "SOAP is a protocol using XML, strict rules, supports WS-Security. REST is architectural style, lightweight, and uses JSON/HTTP."
   ]
  },
  {
   "cell_type": "markdown",
   "id": "e4b9581e",
   "metadata": {},
   "source": [
    "### 32. Describe the structure of a SOAP message.\n",
    "SOAP message has Envelope (root), Header (metadata), Body (actual data), and optional Fault (errors)."
   ]
  },
  {
   "cell_type": "markdown",
   "id": "cf237916",
   "metadata": {},
   "source": [
    "### 33. How does SOAP handle communication between clients and servers?\n",
    "SOAP uses XML messages over HTTP/SMTP, strictly follows WSDL contracts and requires parsing of XML."
   ]
  },
  {
   "cell_type": "markdown",
   "id": "d101e3c4",
   "metadata": {},
   "source": [
    "### 34. What are the advantages and disadvantages of using SOAP-based web services?\n",
    "**Advantages:** Strong security, reliability, supports complex operations.\n",
    "**Disadvantages:** Heavyweight, slower, difficult to implement compared to REST."
   ]
  },
  {
   "cell_type": "markdown",
   "id": "5b47be47",
   "metadata": {},
   "source": [
    "### 35. How does SOAP ensure security in web service communication?\n",
    "It uses WS-Security standard for message encryption, signing, and authentication."
   ]
  },
  {
   "cell_type": "markdown",
   "id": "eb781b6f",
   "metadata": {},
   "source": [
    "### 36. What is Flask, and what makes it different from other web frameworks?\n",
    "Flask is a lightweight Python web framework. It is micro-framework, meaning minimal built-in features, very flexible and easy to use."
   ]
  },
  {
   "cell_type": "markdown",
   "id": "4daec1f9",
   "metadata": {},
   "source": [
    "### 37. Describe the basic structure of a Flask application.\n",
    "A Flask app usually has:\n",
    "- app.py (main file)\n",
    "- templates/ (HTML files)\n",
    "- static/ (CSS, JS)\n",
    "- routes defined using @app.route decorator"
   ]
  },
  {
   "cell_type": "markdown",
   "id": "f7c8309f",
   "metadata": {},
   "source": [
    "### 38. How do you install Flask on your local machine?\n",
    "Run `pip install flask` in terminal or command prompt."
   ]
  },
  {
   "cell_type": "markdown",
   "id": "76f67ea2",
   "metadata": {},
   "source": [
    "### 39. Explain the concept of routing in Flask.\n",
    "Routing maps a URL to a specific function in Flask. Example:\n",
    "```python\n",
    "@app.route('/home')\n",
    "def home():\n",
    "    return 'Welcome'\n",
    "```"
   ]
  },
  {
   "cell_type": "markdown",
   "id": "ba2471a1",
   "metadata": {},
   "source": [
    "### 40. What are Flask templates, and how are they used in web development?\n",
    "Flask templates are HTML files with placeholders (Jinja2 syntax) used to dynamically render data in web pages."
   ]
  }
 ],
 "metadata": {},
 "nbformat": 4,
 "nbformat_minor": 5
}

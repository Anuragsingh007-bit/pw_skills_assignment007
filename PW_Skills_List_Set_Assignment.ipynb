{
 "cells": [
  {
   "cell_type": "markdown",
   "id": "3b1d89a1",
   "metadata": {},
   "source": [
    "### Remove all occurrences of a specific element from a list"
   ]
  },
  {
   "cell_type": "code",
   "execution_count": null,
   "id": "a69ddb51",
   "metadata": {},
   "outputs": [],
   "source": [
    "def remove_all(lst, elem):\n",
    "    return [x for x in lst if x != elem]\n",
    "\n",
    "remove_all([1, 2, 2, 3, 4, 2], 2)"
   ]
  },
  {
   "cell_type": "markdown",
   "id": "9ee58c59",
   "metadata": {},
   "source": [
    "### Find the second largest number in a list"
   ]
  },
  {
   "cell_type": "code",
   "execution_count": null,
   "id": "cb4c5cb8",
   "metadata": {},
   "outputs": [],
   "source": [
    "def second_largest(lst):\n",
    "    unique_sorted = sorted(set(lst))\n",
    "    return unique_sorted[-2]\n",
    "\n",
    "second_largest([10, 20, 4, 45, 99, 99])"
   ]
  },
  {
   "cell_type": "markdown",
   "id": "95e824cd",
   "metadata": {},
   "source": [
    "### Count occurrences of each element in a list"
   ]
  },
  {
   "cell_type": "code",
   "execution_count": null,
   "id": "12da9292",
   "metadata": {},
   "outputs": [],
   "source": [
    "from collections import Counter\n",
    "Counter([1, 2, 2, 3, 3, 3, 4])"
   ]
  },
  {
   "cell_type": "markdown",
   "id": "f0d61ab6",
   "metadata": {},
   "source": [
    "### Reverse a list in-place"
   ]
  },
  {
   "cell_type": "code",
   "execution_count": null,
   "id": "598393ee",
   "metadata": {},
   "outputs": [],
   "source": [
    "lst = [1, 2, 3, 4]\n",
    "lst.reverse()\n",
    "lst"
   ]
  },
  {
   "cell_type": "markdown",
   "id": "3dcdbabc",
   "metadata": {},
   "source": [
    "### Remove duplicates while preserving order"
   ]
  },
  {
   "cell_type": "code",
   "execution_count": null,
   "id": "f9ea9bf3",
   "metadata": {},
   "outputs": [],
   "source": [
    "lst = [1, 2, 2, 3, 4, 3]\n",
    "unique_list = []\n",
    "for i in lst:\n",
    "    if i not in unique_list:\n",
    "        unique_list.append(i)\n",
    "unique_list"
   ]
  },
  {
   "cell_type": "markdown",
   "id": "d04fff44",
   "metadata": {},
   "source": [
    "### Check if list is sorted"
   ]
  },
  {
   "cell_type": "code",
   "execution_count": null,
   "id": "7cb6f1a7",
   "metadata": {},
   "outputs": [],
   "source": [
    "lst = [1, 2, 3, 4]\n",
    "lst == sorted(lst) or lst == sorted(lst, reverse=True)"
   ]
  },
  {
   "cell_type": "markdown",
   "id": "31a86e20",
   "metadata": {},
   "source": [
    "### Merge two sorted lists"
   ]
  },
  {
   "cell_type": "code",
   "execution_count": null,
   "id": "e4eed664",
   "metadata": {},
   "outputs": [],
   "source": [
    "def merge_sorted(l1, l2):\n",
    "    return sorted(l1 + l2)\n",
    "\n",
    "merge_sorted([1,3,5], [2,4,6])"
   ]
  },
  {
   "cell_type": "markdown",
   "id": "670efa84",
   "metadata": {},
   "source": [
    "### Find intersection of two lists"
   ]
  },
  {
   "cell_type": "code",
   "execution_count": null,
   "id": "3df04eb0",
   "metadata": {},
   "outputs": [],
   "source": [
    "list1 = [1, 2, 3, 4]\n",
    "list2 = [3, 4, 5, 6]\n",
    "set(list1) & set(list2)"
   ]
  },
  {
   "cell_type": "markdown",
   "id": "a9f34574",
   "metadata": {},
   "source": [
    "### Find union of two lists without duplicates"
   ]
  },
  {
   "cell_type": "code",
   "execution_count": null,
   "id": "999817d6",
   "metadata": {},
   "outputs": [],
   "source": [
    "list1 = [1, 2, 3]\n",
    "list2 = [3, 4, 5]\n",
    "list(set(list1) | set(list2))"
   ]
  },
  {
   "cell_type": "markdown",
   "id": "6d6fe272",
   "metadata": {},
   "source": [
    "### Shuffle a list without using built-in shuffle"
   ]
  },
  {
   "cell_type": "code",
   "execution_count": null,
   "id": "0811a659",
   "metadata": {},
   "outputs": [],
   "source": [
    "import random\n",
    "lst = [1, 2, 3, 4, 5]\n",
    "random.sample(lst, len(lst))"
   ]
  }
 ],
 "metadata": {},
 "nbformat": 4,
 "nbformat_minor": 5
}

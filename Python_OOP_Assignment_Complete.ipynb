{
 "cells": [
  {
   "cell_type": "markdown",
   "id": "09b7efe3",
   "metadata": {},
   "source": [
    "# Python Functions, Generators, OOP & Decorators — Assignment\n",
    "\n",
    "Complete solutions for Questions 1–71. Run each code cell in Google Colab."
   ]
  },
  {
   "cell_type": "markdown",
   "id": "af39d6d9",
   "metadata": {},
   "source": [
    "## Q1. Explain the importance of functions\n",
    "\n",
    "Functions help break code into reusable pieces, improve readability, avoid repetition, and make testing easier."
   ]
  },
  {
   "cell_type": "markdown",
   "id": "8d118ed9",
   "metadata": {},
   "source": [
    "## Q2. Basic function to greet students\n",
    "```python\n",
    "def greet(name):\n",
    "    print(f\"Hello, {name}! Welcome to the class.\")\n",
    "\n",
    "# Example\n",
    "#greet('Anurag')\n",
    "```"
   ]
  },
  {
   "cell_type": "markdown",
   "id": "fd9f87bc",
   "metadata": {},
   "source": [
    "## Q3. Difference between `print` and `return`\n",
    "\n",
    "- `print` displays output to console (side-effect).\n",
    "- `return` sends a value back to caller so it can be used later.\n",
    "\n",
    "Example:\n",
    "```python\n",
    "def add_print(a,b):\n",
    "    print(a+b)\n",
    "\n",
    "def add_return(a,b):\n",
    "    return a+b\n",
    "\n",
    "# add_print(2,3)  # prints 5 but returns None\n",
    "# x = add_return(2,3)  # x==5\n",
    "```"
   ]
  },
  {
   "cell_type": "markdown",
   "id": "f2fdfd28",
   "metadata": {},
   "source": [
    "## Q4. What are `*args` and `**kwargs`?\n",
    "\n",
    "- `*args` receives variable positional arguments as a tuple.\n",
    "- `**kwargs` receives variable keyword arguments as a dict.\n",
    "\n",
    "Example:\n",
    "```python\n",
    "def f(*args, **kwargs):\n",
    "    print('args', args)\n",
    "    print('kwargs', kwargs)\n",
    "\n",
    "# f(1,2, x=3, y=4)\n",
    "```"
   ]
  },
  {
   "cell_type": "markdown",
   "id": "1ab359b3",
   "metadata": {},
   "source": [
    "## Q5. Explain the iterator function\n",
    "\n",
    "An iterator is an object implementing `__iter__()` and `__next__()` that yields values one at a time. You can create custom iterators or use generators (simpler)."
   ]
  },
  {
   "cell_type": "markdown",
   "id": "8720b821",
   "metadata": {},
   "source": [
    "## Q6. Generator: squares from 1 to n"
   ]
  },
  {
   "cell_type": "code",
   "execution_count": null,
   "id": "a3e1bf24",
   "metadata": {},
   "outputs": [],
   "source": [
    "\n",
    "def gen_squares(n):\n",
    "    for i in range(1, n+1):\n",
    "        yield i*i\n",
    "\n",
    "# Example usage:\n",
    "# for x in gen_squares(5):\n",
    "#     print(x)\n"
   ]
  },
  {
   "cell_type": "markdown",
   "id": "c62a3fb6",
   "metadata": {},
   "source": [
    "## Q7. Generator: palindromic numbers up to n"
   ]
  },
  {
   "cell_type": "code",
   "execution_count": null,
   "id": "984f9fd1",
   "metadata": {},
   "outputs": [],
   "source": [
    "\n",
    "def is_pal(num):\n",
    "    s = str(num); return s==s[::-1]\n",
    "\n",
    "def gen_palindromes(n):\n",
    "    for i in range(1, n+1):\n",
    "        if is_pal(i):\n",
    "            yield i\n",
    "\n",
    "# Example: list(gen_palindromes(200))\n"
   ]
  },
  {
   "cell_type": "markdown",
   "id": "87c6b6ce",
   "metadata": {},
   "source": [
    "## Q8. Generator: even numbers from 2 to n"
   ]
  },
  {
   "cell_type": "code",
   "execution_count": null,
   "id": "9e4e362f",
   "metadata": {},
   "outputs": [],
   "source": [
    "\n",
    "def gen_evens(n):\n",
    "    for i in range(2, n+1, 2):\n",
    "        yield i\n",
    "\n",
    "# Example: list(gen_evens(10))\n"
   ]
  },
  {
   "cell_type": "markdown",
   "id": "daf0a6c2",
   "metadata": {},
   "source": [
    "## Q9. Generator: powers of two up to n (<=n)"
   ]
  },
  {
   "cell_type": "code",
   "execution_count": null,
   "id": "6255074d",
   "metadata": {},
   "outputs": [],
   "source": [
    "\n",
    "def gen_powers_of_two(n):\n",
    "    p = 1\n",
    "    while p <= n:\n",
    "        yield p\n",
    "        p *= 2\n",
    "\n",
    "# Example: list(gen_powers_of_two(50))\n"
   ]
  },
  {
   "cell_type": "markdown",
   "id": "211364f9",
   "metadata": {},
   "source": [
    "## Q10. Generator: prime numbers up to n"
   ]
  },
  {
   "cell_type": "code",
   "execution_count": null,
   "id": "e7cb6f8e",
   "metadata": {},
   "outputs": [],
   "source": [
    "\n",
    "def gen_primes(n):\n",
    "    if n < 2:\n",
    "        return\n",
    "    sieve = [True]*(n+1)\n",
    "    for p in range(2, n+1):\n",
    "        if sieve[p]:\n",
    "            yield p\n",
    "            for multiple in range(p*p, n+1, p):\n",
    "                sieve[multiple] = False\n",
    "\n",
    "# Example: list(gen_primes(30))\n"
   ]
  },
  {
   "cell_type": "markdown",
   "id": "5394266c",
   "metadata": {},
   "source": [
    "## Q11. Lambda to sum two numbers"
   ]
  },
  {
   "cell_type": "code",
   "execution_count": null,
   "id": "b60f1d7d",
   "metadata": {},
   "outputs": [],
   "source": [
    "\n",
    "add = lambda a,b: a+b\n",
    "# Example: add(2,3)\n"
   ]
  },
  {
   "cell_type": "markdown",
   "id": "fc6f6f75",
   "metadata": {},
   "source": [
    "## Q12. Lambda to square a number"
   ]
  },
  {
   "cell_type": "code",
   "execution_count": null,
   "id": "06ba0f21",
   "metadata": {},
   "outputs": [],
   "source": [
    "\n",
    "square = lambda x: x*x\n",
    "# Example: square(5)\n"
   ]
  },
  {
   "cell_type": "markdown",
   "id": "c3f4adfc",
   "metadata": {},
   "source": [
    "## Q13. Lambda to check even/odd"
   ]
  },
  {
   "cell_type": "code",
   "execution_count": null,
   "id": "38e2d4c5",
   "metadata": {},
   "outputs": [],
   "source": [
    "\n",
    "is_even = lambda x: 'Even' if x%2==0 else 'Odd'\n",
    "# Example: is_even(4)\n"
   ]
  },
  {
   "cell_type": "markdown",
   "id": "9f28210a",
   "metadata": {},
   "source": [
    "## Q14. Lambda to concatenate two strings"
   ]
  },
  {
   "cell_type": "code",
   "execution_count": null,
   "id": "807a1432",
   "metadata": {},
   "outputs": [],
   "source": [
    "\n",
    "concat = lambda a,b: a + b\n",
    "# Example: concat('Hello ', 'World')\n"
   ]
  },
  {
   "cell_type": "markdown",
   "id": "40284b57",
   "metadata": {},
   "source": [
    "## Q15. Lambda to find max of three numbers"
   ]
  },
  {
   "cell_type": "code",
   "execution_count": null,
   "id": "4cf5847f",
   "metadata": {},
   "outputs": [],
   "source": [
    "\n",
    "max3 = lambda a,b,c: a if (a>=b and a>=c) else (b if b>=c else c)\n",
    "# Example: max3(3,7,5)\n"
   ]
  },
  {
   "cell_type": "markdown",
   "id": "cc01b892",
   "metadata": {},
   "source": [
    "## Q16. (Duplicate) Lambda to find max of three numbers (using built-in)"
   ]
  },
  {
   "cell_type": "code",
   "execution_count": null,
   "id": "6311d080",
   "metadata": {},
   "outputs": [],
   "source": [
    "\n",
    "max3_b = lambda a,b,c: max((a,b,c))\n",
    "# Example: max3_b(3,7,5)\n"
   ]
  },
  {
   "cell_type": "markdown",
   "id": "0e45924b",
   "metadata": {},
   "source": [
    "## Q17. Squares of even numbers from a given list"
   ]
  },
  {
   "cell_type": "code",
   "execution_count": null,
   "id": "8e7cd0ff",
   "metadata": {},
   "outputs": [],
   "source": [
    "\n",
    "from functools import reduce\n",
    "def squares_of_evens(lst):\n",
    "    return [x*x for x in lst if x%2==0]\n",
    "\n",
    "# Example: squares_of_evens([1,2,3,4,5])\n"
   ]
  },
  {
   "cell_type": "markdown",
   "id": "c338811e",
   "metadata": {},
   "source": [
    "## Q18. Product of positive numbers from a list"
   ]
  },
  {
   "cell_type": "code",
   "execution_count": null,
   "id": "09fbe97f",
   "metadata": {},
   "outputs": [],
   "source": [
    "\n",
    "def product_of_positives(lst):\n",
    "    positives = [x for x in lst if x>0]\n",
    "    return reduce(lambda a,b: a*b, positives, 1)\n",
    "\n",
    "# Example: product_of_positives([1,-2,3,4])\n"
   ]
  },
  {
   "cell_type": "markdown",
   "id": "3b56273b",
   "metadata": {},
   "source": [
    "## Q19. Double odd numbers in a list"
   ]
  },
  {
   "cell_type": "code",
   "execution_count": null,
   "id": "e928edcb",
   "metadata": {},
   "outputs": [],
   "source": [
    "\n",
    "def double_odds(lst):\n",
    "    return [x*2 if x%2!=0 else x for x in lst]\n",
    "\n",
    "# Example: double_odds([1,2,3,4,5])\n"
   ]
  },
  {
   "cell_type": "markdown",
   "id": "318954e0",
   "metadata": {},
   "source": [
    "## Q20. Sum of cubes of numbers in a list"
   ]
  },
  {
   "cell_type": "code",
   "execution_count": null,
   "id": "ca81c051",
   "metadata": {},
   "outputs": [],
   "source": [
    "\n",
    "def sum_of_cubes(lst):\n",
    "    return sum(x**3 for x in lst)\n",
    "\n",
    "# Example: sum_of_cubes([1,2,3])\n"
   ]
  },
  {
   "cell_type": "markdown",
   "id": "d8549578",
   "metadata": {},
   "source": [
    "## Q21. Filter prime numbers from a list"
   ]
  },
  {
   "cell_type": "code",
   "execution_count": null,
   "id": "4f842287",
   "metadata": {},
   "outputs": [],
   "source": [
    "\n",
    "def is_prime(n):\n",
    "    if n<2: return False\n",
    "    if n%2==0 and n!=2: return n==2\n",
    "    r = int(n**0.5)\n",
    "    for i in range(3, r+1, 2):\n",
    "        if n%i==0:\n",
    "            return False\n",
    "    return True\n",
    "\n",
    "def filter_primes(lst):\n",
    "    return [x for x in lst if is_prime(x)]\n",
    "\n",
    "# Example: filter_primes([1,2,3,4,5,15,17])\n"
   ]
  },
  {
   "cell_type": "markdown",
   "id": "5ea97734",
   "metadata": {},
   "source": [
    "## Q22-Q26. Lambda repeats (short examples)"
   ]
  },
  {
   "cell_type": "code",
   "execution_count": null,
   "id": "c895dfdd",
   "metadata": {},
   "outputs": [],
   "source": [
    "\n",
    "# Q22 sum two numbers\n",
    "add_lambda = lambda a,b: a+b\n",
    "# Q23 square\n",
    "sq_lambda = lambda x: x*x\n",
    "# Q24 even/odd\n",
    "evenodd_lambda = lambda x: 'Even' if x%2==0 else 'Odd'\n",
    "# Q25 concat strings\n",
    "concat_lambda = lambda a,b: a+b\n",
    "# Q26 max of three\n",
    "max3_lambda = lambda a,b,c: max(a,b,c)\n"
   ]
  },
  {
   "cell_type": "markdown",
   "id": "dd11e9cc",
   "metadata": {},
   "source": [
    "## Q27. What is encapsulation in OOP?\n",
    "\n",
    "Encapsulation bundles data and methods and restricts direct access to object internals (control via methods)."
   ]
  },
  {
   "cell_type": "markdown",
   "id": "e5dfc21d",
   "metadata": {},
   "source": [
    "## Q28. Access modifiers in Python classes\n",
    "\n",
    "Python uses naming conventions: public (normal), protected (_single), private (__double -> name mangling)."
   ]
  },
  {
   "cell_type": "markdown",
   "id": "2c7ab175",
   "metadata": {},
   "source": [
    "## Q29. Define inheritance in OOP\n",
    "\n",
    "Inheritance allows a class (child) to reuse and extend behavior of another class (parent)."
   ]
  },
  {
   "cell_type": "markdown",
   "id": "cd04c8d9",
   "metadata": {},
   "source": [
    "## Q30. Define polymorphism in OOP\n",
    "\n",
    "Polymorphism lets objects of different classes be treated via a common interface (same method name different behavior)."
   ]
  },
  {
   "cell_type": "markdown",
   "id": "8a0af694",
   "metadata": {},
   "source": [
    "## Q31. Explain method overriding in Python\n",
    "\n",
    "A child class can define a method with same name as parent to change behavior."
   ]
  },
  {
   "cell_type": "markdown",
   "id": "21a80f50",
   "metadata": {},
   "source": [
    "## Q32. Animal & Dog classes - make_sound example"
   ]
  },
  {
   "cell_type": "code",
   "execution_count": null,
   "id": "750642e7",
   "metadata": {},
   "outputs": [],
   "source": [
    "\n",
    "class Animal:\n",
    "    def make_sound(self):\n",
    "        print('Generic animal sound')\n",
    "\n",
    "class Dog(Animal):\n",
    "    def make_sound(self):\n",
    "        print('Woof!')\n",
    "\n",
    "# Example\n",
    "# a = Animal(); d = Dog(); a.make_sound(); d.make_sound()\n"
   ]
  },
  {
   "cell_type": "markdown",
   "id": "9962495a",
   "metadata": {},
   "source": [
    "## Q33. Override move method"
   ]
  },
  {
   "cell_type": "code",
   "execution_count": null,
   "id": "2f8d97a4",
   "metadata": {},
   "outputs": [],
   "source": [
    "\n",
    "class AnimalMove:\n",
    "    def move(self):\n",
    "        print('Animal moves')\n",
    "\n",
    "class DogMove(AnimalMove):\n",
    "    def move(self):\n",
    "        print('Dog runs.')\n",
    "\n",
    "# Example: DogMove().move()\n"
   ]
  },
  {
   "cell_type": "markdown",
   "id": "0c442ac7",
   "metadata": {},
   "source": [
    "## Q34. Mammal and DogMammal multiple inheritance"
   ]
  },
  {
   "cell_type": "code",
   "execution_count": null,
   "id": "14bcb03e",
   "metadata": {},
   "outputs": [],
   "source": [
    "\n",
    "class Mammal:\n",
    "    def reproduce(self):\n",
    "        print('Giving birth to live young.')\n",
    "\n",
    "class DogMammal(Dog, Mammal):\n",
    "    pass\n",
    "\n",
    "# Example: DogMammal().make_sound(); DogMammal().reproduce()\n"
   ]
  },
  {
   "cell_type": "markdown",
   "id": "fd91ad03",
   "metadata": {},
   "source": [
    "## Q35. GermanShepherd overriding make_sound"
   ]
  },
  {
   "cell_type": "code",
   "execution_count": null,
   "id": "fab29cd1",
   "metadata": {},
   "outputs": [],
   "source": [
    "\n",
    "class GermanShepherd(Dog):\n",
    "    def make_sound(self):\n",
    "        print('Bark!')\n",
    "\n",
    "# Example: GermanShepherd().make_sound()\n"
   ]
  },
  {
   "cell_type": "markdown",
   "id": "71fad0a4",
   "metadata": {},
   "source": [
    "## Q36. Constructors in Animal and Dog"
   ]
  },
  {
   "cell_type": "code",
   "execution_count": null,
   "id": "12b0338a",
   "metadata": {},
   "outputs": [],
   "source": [
    "\n",
    "class AnimalC:\n",
    "    def __init__(self, species='Unknown'):\n",
    "        self.species = species\n",
    "\n",
    "class DogC(AnimalC):\n",
    "    def __init__(self, name, breed):\n",
    "        super().__init__(species='Canine')\n",
    "        self.name = name\n",
    "        self.breed = breed\n",
    "\n",
    "# Example: DogC('Rex', 'Labrador')\n"
   ]
  },
  {
   "cell_type": "markdown",
   "id": "ce6dd7c3",
   "metadata": {},
   "source": [
    "## Q37. What is abstraction and how implemented?\n",
    "\n",
    "Abstraction hides complex details and exposes a simple interface. In Python use abstract base classes (`abc` module) and `@abstractmethod`."
   ]
  },
  {
   "cell_type": "markdown",
   "id": "c9e0a3b8",
   "metadata": {},
   "source": [
    "## Q38. Importance of abstraction\n",
    "\n",
    "Promotes modularity, easier maintenance, and enforces interface contracts."
   ]
  },
  {
   "cell_type": "markdown",
   "id": "7088a3b3",
   "metadata": {},
   "source": [
    "## Q39. Abstract methods vs regular methods\n",
    "\n",
    "Abstract methods have no implementation and must be overridden by subclasses; regular methods have implementation."
   ]
  },
  {
   "cell_type": "markdown",
   "id": "0b426287",
   "metadata": {},
   "source": [
    "## Q40. Achieve abstraction using interfaces in Python\n",
    "\n",
    "Use `abc.ABC` classes and `@abstractmethod` to define interfaces."
   ]
  },
  {
   "cell_type": "markdown",
   "id": "1e08220b",
   "metadata": {},
   "source": [
    "## Q41. Example: common interface for related classes"
   ]
  },
  {
   "cell_type": "code",
   "execution_count": null,
   "id": "a9cb85ad",
   "metadata": {},
   "outputs": [],
   "source": [
    "\n",
    "from abc import ABC, abstractmethod\n",
    "\n",
    "class Shape(ABC):\n",
    "    @abstractmethod\n",
    "    def area(self):\n",
    "        pass\n",
    "\n",
    "class Circle(Shape):\n",
    "    def __init__(self, r): self.r=r\n",
    "    def area(self): return 3.1416*self.r*self.r\n",
    "\n",
    "class Square(Shape):\n",
    "    def __init__(self, a): self.a=a\n",
    "    def area(self): return self.a*self.a\n",
    "\n",
    "# Example: [Circle(2).area(), Square(3).area()]\n"
   ]
  },
  {
   "cell_type": "markdown",
   "id": "3b0e5e1b",
   "metadata": {},
   "source": [
    "## Q42. How Python achieves polymorphism via overriding\n",
    "\n",
    "Subclasses override parent methods; calling method on parent-typed reference invokes subclass version."
   ]
  },
  {
   "cell_type": "markdown",
   "id": "491e3541",
   "metadata": {},
   "source": [
    "## Q43. Base class and subclass overriding example"
   ]
  },
  {
   "cell_type": "code",
   "execution_count": null,
   "id": "6d48992b",
   "metadata": {},
   "outputs": [],
   "source": [
    "\n",
    "class Parent:\n",
    "    def greet(self): print('Hello from Parent')\n",
    "\n",
    "class Child(Parent):\n",
    "    def greet(self): print('Hello from Child')\n",
    "\n",
    "# Example: [Parent().greet(), Child().greet()]\n"
   ]
  },
  {
   "cell_type": "markdown",
   "id": "26b7e720",
   "metadata": {},
   "source": [
    "## Q44. Base class and multiple subclasses example"
   ]
  },
  {
   "cell_type": "code",
   "execution_count": null,
   "id": "36a61089",
   "metadata": {},
   "outputs": [],
   "source": [
    "\n",
    "class AnimalPol:\n",
    "    def sound(self): print('Some sound')\n",
    "\n",
    "class Cat(AnimalPol):\n",
    "    def sound(self): print('Meow')\n",
    "\n",
    "class Cow(AnimalPol):\n",
    "    def sound(self): print('Moo')\n",
    "\n",
    "# Example: for a in [Cat(),Cow()]: a.sound()\n"
   ]
  },
  {
   "cell_type": "markdown",
   "id": "1abc8d3b",
   "metadata": {},
   "source": [
    "## Q45. How polymorphism improves readability and reusability\n",
    "\n",
    "It allows same code to work with different objects, reducing branches and increasing clarity."
   ]
  },
  {
   "cell_type": "markdown",
   "id": "bacbd6f8",
   "metadata": {},
   "source": [
    "## Q46. Duck typing in Python\n",
    "\n",
    "If an object implements required methods, it's usable regardless of its class (no formal interface required). Example: file-like object needs `.read()`."
   ]
  },
  {
   "cell_type": "markdown",
   "id": "ad43a170",
   "metadata": {},
   "source": [
    "## Q47. How to achieve encapsulation in Python\n",
    "\n",
    "Use naming conventions, private attributes (`__attr`), and property methods to control access."
   ]
  },
  {
   "cell_type": "markdown",
   "id": "1868dd8d",
   "metadata": {},
   "source": [
    "## Q48. Can encapsulation be bypassed? If so, how?\n",
    "\n",
    "Yes — name mangling (e.g., `_ClassName__private`) can access private attributes, but shouldn't be used normally."
   ]
  },
  {
   "cell_type": "markdown",
   "id": "5ae5aa67",
   "metadata": {},
   "source": [
    "## Q49. BankAccount class with private balance"
   ]
  },
  {
   "cell_type": "code",
   "execution_count": null,
   "id": "86c1b0d7",
   "metadata": {},
   "outputs": [],
   "source": [
    "\n",
    "class BankAccount:\n",
    "    def __init__(self, opening=0):\n",
    "        self.__balance = float(opening)\n",
    "    def deposit(self, amt):\n",
    "        if amt>0:\n",
    "            self.__balance += amt\n",
    "    def withdraw(self, amt):\n",
    "        if 0<amt<=self.__balance:\n",
    "            self.__balance -= amt\n",
    "            return amt\n",
    "        raise ValueError('Insufficient funds')\n",
    "    def get_balance(self):\n",
    "        return self.__balance\n",
    "\n",
    "# Example usage:\n",
    "# acc = BankAccount(100); acc.deposit(50); acc.withdraw(30); acc.get_balance()\n"
   ]
  },
  {
   "cell_type": "markdown",
   "id": "015e7994",
   "metadata": {},
   "source": [
    "## Q50. Person class with private name and email, setter/getter for email"
   ]
  },
  {
   "cell_type": "code",
   "execution_count": null,
   "id": "48f2d7b1",
   "metadata": {},
   "outputs": [],
   "source": [
    "\n",
    "class Person:\n",
    "    def __init__(self, name, email):\n",
    "        self.__name = name\n",
    "        self.__email = email\n",
    "    def get_email(self):\n",
    "        return self.__email\n",
    "    def set_email(self, new_email):\n",
    "        # simple validation\n",
    "        if '@' in new_email:\n",
    "            self.__email = new_email\n",
    "        else:\n",
    "            raise ValueError('Invalid email')\n",
    "    def get_name(self):\n",
    "        return self.__name\n",
    "\n",
    "# Example: p = Person('Anurag','a@ex.com'); p.get_email(); p.set_email('b@ex.com')\n"
   ]
  },
  {
   "cell_type": "markdown",
   "id": "3d20fe32",
   "metadata": {},
   "source": [
    "## Q51. Why encapsulation is a pillar of OOP\n",
    "\n",
    "It hides implementation details, protects data, and provides controlled interfaces; essential for modular, maintainable code."
   ]
  },
  {
   "cell_type": "markdown",
   "id": "d30af988",
   "metadata": {},
   "source": [
    "## Q52. Decorator printing before & after a function"
   ]
  },
  {
   "cell_type": "code",
   "execution_count": null,
   "id": "ead81324",
   "metadata": {},
   "outputs": [],
   "source": [
    "\n",
    "def simple_decorator(func):\n",
    "    def wrapper(*args, **kwargs):\n",
    "        print('Before function')\n",
    "        result = func(*args, **kwargs)\n",
    "        print('After function')\n",
    "        return result\n",
    "    return wrapper\n",
    "\n",
    "@simple_decorator\n",
    "def say_hi():\n",
    "    print('Hi')\n",
    "\n",
    "# Example: say_hi()\n"
   ]
  },
  {
   "cell_type": "markdown",
   "id": "1df773a9",
   "metadata": {},
   "source": [
    "## Q53. Decorator that accepts arguments and prints function name"
   ]
  },
  {
   "cell_type": "code",
   "execution_count": null,
   "id": "643cd5bc",
   "metadata": {},
   "outputs": [],
   "source": [
    "\n",
    "def decorator_with_args(msg):\n",
    "    def deco(func):\n",
    "        def wrapper(*args, **kwargs):\n",
    "            print(f'{msg} - calling {func.__name__}')\n",
    "            res = func(*args, **kwargs)\n",
    "            print(f'{msg} - finished {func.__name__}')\n",
    "            return res\n",
    "        return wrapper\n",
    "    return deco\n",
    "\n",
    "@decorator_with_args('INFO')\n",
    "def greet(name): \n",
    "    print('Hello', name)\n",
    "# Example: greet('Anurag')\n"
   ]
  },
  {
   "cell_type": "markdown",
   "id": "d51a12bb",
   "metadata": {},
   "source": [
    "## Q54. Two decorators applied (stacking order)"
   ]
  },
  {
   "cell_type": "code",
   "execution_count": null,
   "id": "60f6266c",
   "metadata": {},
   "outputs": [],
   "source": [
    "\n",
    "def d1(f):\n",
    "    def w(*a, **k):\n",
    "        print('d1 before')\n",
    "        r = f(*a, **k)\n",
    "        print('d1 after')\n",
    "        return r\n",
    "    return w\n",
    "\n",
    "def d2(f):\n",
    "    def w(*a, **k):\n",
    "        print('d2 before')\n",
    "        r = f(*a, **k)\n",
    "        print('d2 after')\n",
    "        return r\n",
    "    return w\n",
    "\n",
    "@d1\n",
    "@d2\n",
    "def stacked():\n",
    "    print('inside')\n",
    "\n",
    "# Example: stacked() \n",
    "# Output order shows d1 before -> d2 before -> inside -> d2 after -> d1 after\n"
   ]
  },
  {
   "cell_type": "markdown",
   "id": "170611b2",
   "metadata": {},
   "source": [
    "## Q55. Decorator that accepts and passes function arguments"
   ]
  },
  {
   "cell_type": "code",
   "execution_count": null,
   "id": "23e39cfc",
   "metadata": {},
   "outputs": [],
   "source": [
    "\n",
    "def pass_args_deco(func):\n",
    "    def wrapper(*args, **kwargs):\n",
    "        print('Args received:', args, kwargs)\n",
    "        return func(*args, **kwargs)\n",
    "    return wrapper\n",
    "\n",
    "@pass_args_deco\n",
    "def add(a,b): return a+b\n",
    "\n",
    "# Example: add(2,3)\n"
   ]
  },
  {
   "cell_type": "markdown",
   "id": "772a5ddd",
   "metadata": {},
   "source": [
    "## Q56. Preserve metadata using `functools.wraps`"
   ]
  },
  {
   "cell_type": "code",
   "execution_count": null,
   "id": "2644e438",
   "metadata": {},
   "outputs": [],
   "source": [
    "\n",
    "from functools import wraps\n",
    "def preserve_metadata(func):\n",
    "    @wraps(func)\n",
    "    def wrapper(*a, **k):\n",
    "        '''Wrapper docstring'''\n",
    "        return func(*a, **k)\n",
    "    return wrapper\n",
    "\n",
    "@preserve_metadata\n",
    "def example(): \n",
    "    '''Original doc'''\n",
    "    return 'ok'\n",
    "\n",
    "# example.__name__, example.__doc__\n"
   ]
  },
  {
   "cell_type": "markdown",
   "id": "00434f36",
   "metadata": {},
   "source": [
    "## Q57. Calculator class with static add method"
   ]
  },
  {
   "cell_type": "code",
   "execution_count": null,
   "id": "84fb27b1",
   "metadata": {},
   "outputs": [],
   "source": [
    "\n",
    "class Calculator:\n",
    "    @staticmethod\n",
    "    def add(a,b): return a+b\n",
    "\n",
    "# Example: Calculator.add(2,3)\n"
   ]
  },
  {
   "cell_type": "markdown",
   "id": "242b0fbb",
   "metadata": {},
   "source": [
    "## Q58. Employee class with class method to count employees"
   ]
  },
  {
   "cell_type": "code",
   "execution_count": null,
   "id": "9692897d",
   "metadata": {},
   "outputs": [],
   "source": [
    "\n",
    "class Employee:\n",
    "    _count = 0\n",
    "    def __init__(self, name):\n",
    "        self.name = name\n",
    "        Employee._count += 1\n",
    "    \n",
    "    @classmethod\n",
    "    def get_employee_count(cls):\n",
    "        return cls._count\n",
    "\n",
    "# Example: Employee('A'); Employee('B'); Employee.get_employee_count()\n"
   ]
  },
  {
   "cell_type": "markdown",
   "id": "f2df8dc0",
   "metadata": {},
   "source": [
    "## Q59. StringFormatter with static reverse_string"
   ]
  },
  {
   "cell_type": "code",
   "execution_count": null,
   "id": "e91f0a3f",
   "metadata": {},
   "outputs": [],
   "source": [
    "\n",
    "class StringFormatter:\n",
    "    @staticmethod\n",
    "    def reverse_string(s): return s[::-1]\n",
    "\n",
    "# Example: StringFormatter.reverse_string('abc')\n"
   ]
  },
  {
   "cell_type": "markdown",
   "id": "f2aeeba2",
   "metadata": {},
   "source": [
    "## Q60. Circle class with class method calculate_area"
   ]
  },
  {
   "cell_type": "code",
   "execution_count": null,
   "id": "0baa4d2a",
   "metadata": {},
   "outputs": [],
   "source": [
    "\n",
    "class Circle:\n",
    "    @classmethod\n",
    "    def calculate_area(cls, radius):\n",
    "        return 3.1416 * radius * radius\n",
    "\n",
    "# Example: Circle.calculate_area(3)\n"
   ]
  },
  {
   "cell_type": "markdown",
   "id": "01678b8c",
   "metadata": {},
   "source": [
    "## Q61. TemperatureConverter static method"
   ]
  },
  {
   "cell_type": "code",
   "execution_count": null,
   "id": "d3361092",
   "metadata": {},
   "outputs": [],
   "source": [
    "\n",
    "class TemperatureConverter:\n",
    "    @staticmethod\n",
    "    def celsius_to_fahrenheit(c): return (c*9/5)+32\n",
    "\n",
    "# Example: TemperatureConverter.celsius_to_fahrenheit(0)\n"
   ]
  },
  {
   "cell_type": "markdown",
   "id": "53741848",
   "metadata": {},
   "source": [
    "## Q62. Purpose of `__str__` with example"
   ]
  },
  {
   "cell_type": "code",
   "execution_count": null,
   "id": "014f8654",
   "metadata": {},
   "outputs": [],
   "source": [
    "\n",
    "class Item:\n",
    "    def __init__(self,name,price):\n",
    "        self.name=name; self.price=price\n",
    "    def __str__(self):\n",
    "        return f\"Item({self.name}, ₹{self.price})\"\n",
    "\n",
    "# Example: str(Item('Pen',10))\n"
   ]
  },
  {
   "cell_type": "markdown",
   "id": "bb4577d1",
   "metadata": {},
   "source": [
    "## Q63. `__len__` method example"
   ]
  },
  {
   "cell_type": "code",
   "execution_count": null,
   "id": "77161440",
   "metadata": {},
   "outputs": [],
   "source": [
    "\n",
    "class MyList:\n",
    "    def __init__(self, data):\n",
    "        self._data = list(data)\n",
    "    def __len__(self):\n",
    "        return len(self._data)\n",
    "\n",
    "# Example: len(MyList([1,2,3]))\n"
   ]
  },
  {
   "cell_type": "markdown",
   "id": "babee481",
   "metadata": {},
   "source": [
    "## Q64. `__add__` usage example"
   ]
  },
  {
   "cell_type": "code",
   "execution_count": null,
   "id": "60d9ddcf",
   "metadata": {},
   "outputs": [],
   "source": [
    "\n",
    "class Vector:\n",
    "    def __init__(self, x,y):\n",
    "        self.x=x; self.y=y\n",
    "    def __add__(self, other):\n",
    "        return Vector(self.x+other.x, self.y+other.y)\n",
    "    def __repr__(self): return f'Vector({self.x},{self.y})'\n",
    "\n",
    "# Example: Vector(1,2)+Vector(3,4)\n"
   ]
  },
  {
   "cell_type": "markdown",
   "id": "ac24855b",
   "metadata": {},
   "source": [
    "## Q65. `__getitem__` example"
   ]
  },
  {
   "cell_type": "code",
   "execution_count": null,
   "id": "fd1ec4e0",
   "metadata": {},
   "outputs": [],
   "source": [
    "\n",
    "class Squares:\n",
    "    def __getitem__(self, idx):\n",
    "        return idx*idx\n",
    "\n",
    "# Example: Squares()[5]  # 25\n"
   ]
  },
  {
   "cell_type": "markdown",
   "id": "b6366f0d",
   "metadata": {},
   "source": [
    "## Q66. `__iter__` and `__next__` example (iterator)"
   ]
  },
  {
   "cell_type": "code",
   "execution_count": null,
   "id": "6bfceb06",
   "metadata": {},
   "outputs": [],
   "source": [
    "\n",
    "class Counter:\n",
    "    def __init__(self, low, high):\n",
    "        self.current = low\n",
    "        self.high = high\n",
    "    def __iter__(self):\n",
    "        return self\n",
    "    def __next__(self):\n",
    "        if self.current > self.high:\n",
    "            raise StopIteration\n",
    "        val = self.current\n",
    "        self.current += 1\n",
    "        return val\n",
    "\n",
    "# Example: for i in Counter(1,5): print(i)\n"
   ]
  },
  {
   "cell_type": "markdown",
   "id": "d3c755d8",
   "metadata": {},
   "source": [
    "## Q67. Getter method purpose with `@property` example"
   ]
  },
  {
   "cell_type": "code",
   "execution_count": null,
   "id": "dae80577",
   "metadata": {},
   "outputs": [],
   "source": [
    "\n",
    "class PersonProp:\n",
    "    def __init__(self, name):\n",
    "        self._name = name\n",
    "    @property\n",
    "    def name(self):\n",
    "        return self._name\n",
    "\n",
    "# Example: PersonProp('Anurag').name\n"
   ]
  },
  {
   "cell_type": "markdown",
   "id": "5e0ff635",
   "metadata": {},
   "source": [
    "## Q68. Setter methods and example"
   ]
  },
  {
   "cell_type": "code",
   "execution_count": null,
   "id": "0e37c306",
   "metadata": {},
   "outputs": [],
   "source": [
    "\n",
    "class PersonProp2:\n",
    "    def __init__(self, name):\n",
    "        self._name = name\n",
    "    @property\n",
    "    def name(self): return self._name\n",
    "    @name.setter\n",
    "    def name(self, value):\n",
    "        if not value: raise ValueError('Name empty')\n",
    "        self._name = value\n",
    "\n",
    "# Example: p=PersonProp2('A'); p.name='B'\n"
   ]
  },
  {
   "cell_type": "markdown",
   "id": "36bb9b5b",
   "metadata": {},
   "source": [
    "## Q69. `@property` decorator purpose\n",
    "\n",
    "Creates a read-only attribute-like access to method results and supports getter/setter/deleter."
   ]
  },
  {
   "cell_type": "markdown",
   "id": "9c6bafae",
   "metadata": {},
   "source": [
    "## Q70. `@deleter` decorator example"
   ]
  },
  {
   "cell_type": "code",
   "execution_count": null,
   "id": "bed1a4e1",
   "metadata": {},
   "outputs": [],
   "source": [
    "\n",
    "class PersonDel:\n",
    "    def __init__(self, name):\n",
    "        self._name = name\n",
    "    @property\n",
    "    def name(self): return self._name\n",
    "    @name.deleter\n",
    "    def name(self):\n",
    "        print('Deleting name')\n",
    "        del self._name\n",
    "\n",
    "# Example: p=PersonDel('A'); del p.name\n"
   ]
  },
  {
   "cell_type": "markdown",
   "id": "ddf10fa2",
   "metadata": {},
   "source": [
    "## Q71. Encapsulation relation to property decorators\n",
    "\n",
    "Property decorators let you control access to attributes (validation in setter), providing encapsulation."
   ]
  },
  {
   "cell_type": "code",
   "execution_count": null,
   "id": "50671d18",
   "metadata": {},
   "outputs": [],
   "source": [
    "\n",
    "class EncapsulatedPerson:\n",
    "    def __init__(self, name, email):\n",
    "        self.__name = name\n",
    "        self.__email = email\n",
    "\n",
    "    @property\n",
    "    def email(self):\n",
    "        return self.__email\n",
    "\n",
    "    @email.setter\n",
    "    def email(self, value):\n",
    "        if '@' not in value:\n",
    "            raise ValueError('Invalid email')\n",
    "        self.__email = value\n",
    "\n",
    "    @email.deleter\n",
    "    def email(self):\n",
    "        del self.__email\n",
    "\n",
    "# Example: p=EncapsulatedPerson('A','a@b.com'); p.email; p.email='b@b.com'\n"
   ]
  }
 ],
 "metadata": {
  "language_info": {
   "name": "python"
  }
 },
 "nbformat": 4,
 "nbformat_minor": 5
}
